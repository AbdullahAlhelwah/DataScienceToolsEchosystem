{
  "nbformat": 4,
  "nbformat_minor": 0,
  "metadata": {
    "colab": {
      "provenance": []
    },
    "kernelspec": {
      "name": "python3",
      "display_name": "Python 3"
    },
    "language_info": {
      "name": "python"
    }
  },
  "cells": [
    {
      "cell_type": "markdown",
      "source": [
        "#Data Science Tools and Echosystem"
      ],
      "metadata": {
        "id": "-PJKeiB97yx5"
      }
    },
    {
      "cell_type": "markdown",
      "source": [
        "In this notebook, Data Science Tools and Echosystem are summarized."
      ],
      "metadata": {
        "id": "93VTMbSt8bVk"
      }
    },
    {
      "cell_type": "markdown",
      "source": [
        "**Objectives:**\n",
        "- List popular languages for Data Science\n",
        "- List commonly used libraries for Data Science\n",
        "- List commonly used tools for Data Science\n",
        "- Show examples for arithmetic expressions in Python"
      ],
      "metadata": {
        "id": "YqxcIhMOAupp"
      }
    },
    {
      "cell_type": "markdown",
      "source": [
        "Some of the popular languages that Data Scientits use are:\n",
        "1. Python\n",
        "2. R\n",
        "3. SQL"
      ],
      "metadata": {
        "id": "cO59RIDR8vKD"
      }
    },
    {
      "cell_type": "markdown",
      "source": [
        "Some of the commonly used libraries used by Data Scientists include:\n",
        "1. NumPy\n",
        "2. pandas\n",
        "3. matplotlib\n",
        "4. Scikit learn\n",
        "5. PyTorch\n",
        "6. TenserFlow\n",
        "6. Seaborn"
      ],
      "metadata": {
        "id": "NZ7SLM_J9N5s"
      }
    },
    {
      "cell_type": "markdown",
      "source": [
        "| Data Science Tools |\n",
        "| ------------------ |\n",
        "| Jupyter notebook   |\n",
        "| Rstudio |\n",
        "| Apache Spark |"
      ],
      "metadata": {
        "id": "7iVH6neU94Zn"
      }
    },
    {
      "cell_type": "markdown",
      "source": [
        "### Below are a few examples of evaluating arithmetic expressions in Python"
      ],
      "metadata": {
        "id": "ZdoI_igu_XBV"
      }
    },
    {
      "cell_type": "code",
      "source": [
        "# This is a simple arithmetic epression to multiply then add integers\n",
        "(3*4)+5"
      ],
      "metadata": {
        "colab": {
          "base_uri": "https://localhost:8080/"
        },
        "id": "JKy9N4NP8BP-",
        "outputId": "5991575f-a8c5-4cfb-ef33-c32885c36f3c"
      },
      "execution_count": 1,
      "outputs": [
        {
          "output_type": "execute_result",
          "data": {
            "text/plain": [
              "17"
            ]
          },
          "metadata": {},
          "execution_count": 1
        }
      ]
    },
    {
      "cell_type": "code",
      "source": [
        "# This will convert 200 minutes to hours by dividng by 60\n",
        "time_minutes = 200\n",
        "time_hours = 200/60\n",
        "time_hours"
      ],
      "metadata": {
        "colab": {
          "base_uri": "https://localhost:8080/"
        },
        "id": "TkAnhWEXAKMw",
        "outputId": "afbb631b-6d8a-444e-fb35-7e9f79444246"
      },
      "execution_count": 2,
      "outputs": [
        {
          "output_type": "execute_result",
          "data": {
            "text/plain": [
              "3.3333333333333335"
            ]
          },
          "metadata": {},
          "execution_count": 2
        }
      ]
    },
    {
      "cell_type": "markdown",
      "source": [
        "## Author\n",
        "Abdullah Alhelwah"
      ],
      "metadata": {
        "id": "Pg9Z9g7fBf3x"
      }
    },
    {
      "cell_type": "code",
      "source": [],
      "metadata": {
        "id": "r88CnIFVBoHq"
      },
      "execution_count": null,
      "outputs": []
    }
  ]
}